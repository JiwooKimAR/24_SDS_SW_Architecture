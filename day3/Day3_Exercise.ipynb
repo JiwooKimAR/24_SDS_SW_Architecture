{
  "nbformat": 4,
  "nbformat_minor": 0,
  "metadata": {
    "colab": {
      "provenance": [],
      "toc_visible": true
    },
    "kernelspec": {
      "name": "python3",
      "display_name": "Python 3"
    }
  },
  "cells": [
    {
      "cell_type": "markdown",
      "metadata": {
        "id": "0p7ZixCu93-Z"
      },
      "source": [
        "# Exercise 1: Decision Tree 튜닝"
      ]
    },
    {
      "cell_type": "code",
      "metadata": {
        "id": "J7hOippjiSWu"
      },
      "source": [
        "from sklearn.datasets import load_digits\n",
        "from sklearn.model_selection import train_test_split\n",
        "# from sklearn.metrics import accuracy_score\n",
        "# from PIL import Image\n",
        "# import numpy as np\n",
        "\n",
        "digits = load_digits() # 손글씨 데이터 불러오기\n",
        "x_data = digits.data\n",
        "y_data = digits.target\n",
        "\n",
        "import matplotlib.pyplot as plt\n",
        "plt.gray()\n",
        "plt.matshow(digits.images[1])\n",
        "plt.show()\n",
        "print(digits.images[1])\n",
        "\n",
        "print(x_data.shape) #(1797, 64)\n",
        "print(y_data.shape) #(1797,)\n",
        "\n",
        "# train, test 나눔\n",
        "x_train, x_test, y_train, y_test = train_test_split(x_data, y_data, test_size=0.3)"
      ],
      "execution_count": null,
      "outputs": []
    },
    {
      "cell_type": "code",
      "metadata": {
        "id": "9Et1rIzfuRej"
      },
      "source": [
        "# Decision tree\n",
        "from sklearn.tree import DecisionTreeClassifier\n",
        "model = DecisionTreeClassifier() # 모델 튜닝하기\n",
        "model.fit(x_train, y_train)\n",
        "\n",
        "# 평가\n",
        "from sklearn.metrics import accuracy_score\n",
        "y_pred = model.predict(x_test)\n",
        "print('Test Accuracy: {:.2f}%'.format(accuracy_score(y_test, y_pred)*100))"
      ],
      "execution_count": null,
      "outputs": []
    },
    {
      "cell_type": "markdown",
      "metadata": {
        "id": "oelBbHDQUl8l"
      },
      "source": [
        "# Exercise 2: Titanic 데이터 분석 및 모델 튜닝"
      ]
    },
    {
      "cell_type": "markdown",
      "source": [
        "## 데이터 분석"
      ],
      "metadata": {
        "id": "k8VXRdiGM-KO"
      }
    },
    {
      "cell_type": "code",
      "source": [
        "%%capture\n",
        "# titanic\n",
        "!wget --no-check-certificate 'https://docs.google.com/uc?export=download&id=1Afn3qiznaOEX437j5lEIV8SVmCwqy1Rl' -O Titanic_train.csv\n",
        "!wget --no-check-certificate 'https://docs.google.com/uc?export=download&id=1CgDkX3xT53xwxTeUOI6MT0YqO2L9mfV4' -O Titanic_test.csv"
      ],
      "metadata": {
        "id": "mnYfKNcPQNeo"
      },
      "execution_count": null,
      "outputs": []
    },
    {
      "cell_type": "code",
      "metadata": {
        "id": "459OMg89Ul8m"
      },
      "source": [
        "# 데이터 준비\n",
        "import os                            # 데이터 파일 경로 설정\n",
        "import csv                           # 데이터 파일 로드\n",
        "import numpy as np                   # numpy 행렬 조작\n",
        "import matplotlib.pyplot as plt      # 그래프 그리기(선택 사항)\n",
        "\n",
        "def Load_Titanic_Dataset(filename):\n",
        "    with open(filename, 'r') as f:\n",
        "        csv_reader = csv.reader(f)                  # 파일 로드\n",
        "        feature_header = next(csv_reader)\n",
        "\n",
        "        x_data = []\n",
        "        y_data = []\n",
        "        raw_data = []\n",
        "        for line in csv_reader:\n",
        "            features = line[1:]\n",
        "            x = list(map(float, features))   # x_data에 bias를 위한 1추가\n",
        "            y = float(line[0])\n",
        "\n",
        "            x_data.append(x)\n",
        "            y_data.append(y)\n",
        "            raw_data.append(list(map(float, line)))\n",
        "\n",
        "        x_array = np.array(x_data)\n",
        "        y_array = np.array(y_data)\n",
        "\n",
        "    return feature_header, raw_data, feature_header[1:], x_array, y_array"
      ],
      "execution_count": null,
      "outputs": []
    },
    {
      "cell_type": "code",
      "metadata": {
        "id": "VcoE64FB-pzS"
      },
      "source": [
        "raw_header, raw_data, feature, x_train, y_train = Load_Titanic_Dataset('./Titanic_train.csv')\n",
        "_, _, _, x_test, y_test = Load_Titanic_Dataset('./Titanic_test.csv')\n",
        "\n",
        "print(feature)\n",
        "print(x_train.shape) # train 데이터 수, feature 수\n",
        "print(y_train.shape) # train 데이터 수"
      ],
      "execution_count": null,
      "outputs": []
    },
    {
      "cell_type": "code",
      "metadata": {
        "id": "aprQtNJz-21C"
      },
      "source": [
        "# feature 분석\n",
        "import seaborn as sns\n",
        "import pandas as pd\n",
        "%matplotlib inline\n",
        "df = pd.DataFrame(raw_data, columns = raw_header)\n",
        "\n",
        "# 성별에 생존 분석\n",
        "sns.barplot(x='Sex', y='Survived', data=df) # 남: 0.0, 여: 1.0"
      ],
      "execution_count": null,
      "outputs": []
    },
    {
      "cell_type": "code",
      "metadata": {
        "id": "_a61pTofEMk1"
      },
      "source": [
        "# Parents/Children Aboard에 따른 생존 분석\n",
        "sns.barplot(x='Parents/Children Aboard', y='Survived', data=df)"
      ],
      "execution_count": null,
      "outputs": []
    },
    {
      "cell_type": "markdown",
      "metadata": {
        "id": "MWOA7Lfi7C2h"
      },
      "source": [
        "## 모델 튜닝"
      ]
    },
    {
      "cell_type": "code",
      "metadata": {
        "id": "x7mBSxLf_agG"
      },
      "source": [
        "# Logistic regression\n",
        "from sklearn.linear_model import LogisticRegression\n",
        "\n",
        "model = LogisticRegression() # 모델 튜닝하기\n",
        "model.fit(x_train, y_train)\n",
        "\n",
        "# 평가\n",
        "from sklearn.metrics import accuracy_score\n",
        "y_pred = model.predict(x_test)\n",
        "print('Test Accuracy: {:.2f}%'.format(accuracy_score(y_test, y_pred)*100))"
      ],
      "execution_count": null,
      "outputs": []
    },
    {
      "cell_type": "code",
      "metadata": {
        "id": "jJX7ArloUl8n"
      },
      "source": [
        "# Decision tree\n",
        "from sklearn.tree import DecisionTreeClassifier\n",
        "model = DecisionTreeClassifier() # 모델 튜닝하기\n",
        "model.fit(x_train, y_train)\n",
        "\n",
        "# 평가\n",
        "from sklearn.metrics import accuracy_score\n",
        "y_pred = model.predict(x_test)\n",
        "print('Test Accuracy: {:.2f}%'.format(accuracy_score(y_test, y_pred)*100))"
      ],
      "execution_count": null,
      "outputs": []
    },
    {
      "cell_type": "code",
      "metadata": {
        "id": "o33OKDIX_kjH"
      },
      "source": [
        "# Random forest\n",
        "from sklearn.ensemble import RandomForestClassifier\n",
        "model = RandomForestClassifier()  # 모델 튜닝하기\n",
        "model.fit(x_train, y_train)\n",
        "\n",
        "# 평가\n",
        "from sklearn.metrics import accuracy_score\n",
        "y_pred = model.predict(x_test)\n",
        "print('Test Accuracy: {:.2f}%'.format(accuracy_score(y_test, y_pred)*100))"
      ],
      "execution_count": null,
      "outputs": []
    },
    {
      "cell_type": "code",
      "source": [],
      "metadata": {
        "id": "J9baWidOU6wj"
      },
      "execution_count": null,
      "outputs": []
    }
  ]
}