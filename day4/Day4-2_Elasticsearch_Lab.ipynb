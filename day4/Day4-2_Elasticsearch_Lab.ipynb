{
 "cells": [
  {
   "cell_type": "markdown",
   "id": "29d34a07-cdea-4b59-9bed-bf5d1da71655",
   "metadata": {
    "tags": []
   },
   "source": [
    "# Lab4-2. Elasticsearch"
   ]
  },
  {
   "cell_type": "markdown",
   "id": "4589f4aa-7d6b-4795-98eb-0a1e885d1785",
   "metadata": {},
   "source": [
    "## Environment setup"
   ]
  },
  {
   "cell_type": "code",
   "execution_count": null,
   "id": "19410bd9-97be-475a-ba80-3cf98d911b04",
   "metadata": {},
   "outputs": [],
   "source": [
    "!pip install elasticsearch"
   ]
  },
  {
   "cell_type": "code",
   "execution_count": null,
   "id": "4af86793-7178-46fa-9367-3ef7bb12810a",
   "metadata": {},
   "outputs": [],
   "source": [
    "import os\n",
    "os.chdir('/home/day4/24_SDS_SW_Architecture/day4')"
   ]
  },
  {
   "cell_type": "code",
   "execution_count": null,
   "id": "9c5171b2-8740-4e25-b9ba-0eab56bc56f6",
   "metadata": {},
   "outputs": [],
   "source": [
    "ELASTIC_USERNAME = \"elastic\"\n",
    "ELASTIC_PASSWORD = \"123456\"\n",
    "ELASTIC_PATH = \"https://localhost:9200\""
   ]
  },
  {
   "cell_type": "code",
   "execution_count": null,
   "id": "ff3722af-bc61-452a-93c1-edf7c8ae7e0b",
   "metadata": {},
   "outputs": [],
   "source": [
    "# import libraries\n",
    "from elasticsearch import Elasticsearch\n",
    "from datetime import datetime\n",
    "from pprint import pprint\n",
    "from list_of_documents import list_of_nba_players"
   ]
  },
  {
   "cell_type": "code",
   "execution_count": null,
   "id": "7675392b-d256-4554-a5d1-880b7239d71d",
   "metadata": {},
   "outputs": [],
   "source": [
    "# connect to Elasticsearch\n",
    "def connect_to_elastic() -> Elasticsearch:\n",
    "    client = Elasticsearch(\n",
    "        ELASTIC_PATH,\n",
    "        ca_certs = \"/home/day4/24_SDS_SW_Architecture/day4/ca.crt\",\n",
    "        basic_auth=(ELASTIC_USERNAME, ELASTIC_PASSWORD),\n",
    "    )\n",
    "    return client\n",
    "    \n",
    "client = connect_to_elastic()\n",
    "print(client.info())"
   ]
  },
  {
   "cell_type": "markdown",
   "id": "f91b22bf-b726-41fb-aad6-720334009577",
   "metadata": {
    "tags": []
   },
   "source": [
    "## CRUD Operations"
   ]
  },
  {
   "cell_type": "markdown",
   "id": "7e6b42bd-322b-416e-82a2-345f553c5393",
   "metadata": {},
   "source": [
    "- Create\n",
    "- Read\n",
    "- Update\n",
    "- Delete"
   ]
  },
  {
   "cell_type": "markdown",
   "id": "05e17c6b-be89-4bc1-8490-7e27761f8e6b",
   "metadata": {},
   "source": [
    "1. Create: Dynamic Mapping"
   ]
  },
  {
   "cell_type": "code",
   "execution_count": null,
   "id": "a2f5eeca-6582-4b7c-afdc-dd91fe8a540d",
   "metadata": {},
   "outputs": [],
   "source": [
    "# document to be indexed\n",
    "doc = {\n",
    "    \"author\": \"Antoine de Saint-Exupéry\",\n",
    "    \"text\": \"The Little Prince\",\n",
    "    \"timestamp\": datetime.now(),\n",
    "}\n",
    "\n",
    "# name of index\n",
    "index_name = \"test-index\"\n",
    "\n",
    "# if index does not exist, dynamically create it\n",
    "if not client.indices.exists(index=index_name):\n",
    "    client.indices.create(index=index_name) \n",
    "\n",
    "# insert document into index\n",
    "# if id is not specified, it is automatically generated\n",
    "response = client.index(index=index_name, body=doc)\n",
    "\n",
    "pprint(response.body)"
   ]
  },
  {
   "cell_type": "markdown",
   "id": "5bb5bb8d-2dcf-47d8-ab56-d39d53993e47",
   "metadata": {},
   "source": [
    "1. Create: Index Mapping"
   ]
  },
  {
   "cell_type": "code",
   "execution_count": null,
   "id": "2fa53dd8-389e-4238-ad3e-1eeefc960569",
   "metadata": {},
   "outputs": [],
   "source": [
    "INDEX_NAME = \"nba_players\"\n",
    "mapping = {\n",
    "    \"first_name\": {\"type\": \"text\"},\n",
    "    \"last_name\": {\"type\": \"text\"},\n",
    "    \"date_of_birth\": {\"type\": \"date\"},\n",
    "    \"position\": {\"type\": \"keyword\"},\n",
    "    \"team\": {\"type\": \"keyword\"},\n",
    "    \"avg_scoring\": {\"type\": \"float\"},\n",
    "    \"avg_rebound\": {\"type\": \"float\"},\n",
    "    \"avg_assist\": {\"type\": \"float\"},\n",
    "    \"country\": {\"type\": \"keyword\"},\n",
    "}\n",
    "\n",
    "# Create index\n",
    "client.indices.create(index=INDEX_NAME, body={\"mappings\": {\"properties\": mapping}})\n",
    "\n",
    "# Insert documents to the index\n",
    "for id_doc, document in enumerate(list_of_nba_players):\n",
    "    client.index(index=INDEX_NAME, id=id_doc, body=document)"
   ]
  },
  {
   "cell_type": "markdown",
   "id": "489a1af7-6f54-4332-a103-efafa296c9e8",
   "metadata": {},
   "source": [
    "2. Read"
   ]
  },
  {
   "cell_type": "code",
   "execution_count": null,
   "id": "1c33e8d8-e18d-40cb-9f5d-8f26e452daab",
   "metadata": {},
   "outputs": [],
   "source": [
    "# Read a document\n",
    "response = client.get(index=INDEX_NAME, id=0)\n",
    "pprint(response.body)"
   ]
  },
  {
   "cell_type": "markdown",
   "id": "2d116def-71df-4fa8-adc6-0e6575d86c35",
   "metadata": {},
   "source": [
    "3. Update"
   ]
  },
  {
   "cell_type": "code",
   "execution_count": null,
   "id": "3a9f31e4-7b07-4ebc-babd-46650329fc7e",
   "metadata": {},
   "outputs": [],
   "source": [
    "document_to_update = {\n",
    "    \"doc\": {'first_name': 'Kyrie', 'last_name': 'Irving', 'date_of_birth': '1992-03-23', \n",
    "            'position': 'PG', 'team': 'Brooklyn Nets', 'avg_scoring': 24.9, 'avg_rebounds': 4.4, \n",
    "             'avg_assists': 6.4, 'country': 'Korea'}\n",
    "}\n",
    "\n",
    "print('# 기존')\n",
    "pprint(client.get(index=INDEX_NAME, id=11).body)\n",
    "\n",
    "# Update a document\n",
    "client.update(index=INDEX_NAME, id=11, body=document_to_update)\n",
    "\n",
    "print('\\n# 변경')\n",
    "pprint(client.get(index=INDEX_NAME, id=11).body)"
   ]
  },
  {
   "cell_type": "markdown",
   "id": "4310a30f-9c6f-4869-a36f-ac4c3f3feba5",
   "metadata": {},
   "source": [
    "4. Delete"
   ]
  },
  {
   "cell_type": "code",
   "execution_count": null,
   "id": "d5c2f426-4fba-40ab-802c-80d9bfcaade1",
   "metadata": {},
   "outputs": [],
   "source": [
    "# Delete a document\n",
    "result = client.delete(index=INDEX_NAME, id=11)\n",
    "\n",
    "pprint(client.get(index=INDEX_NAME, id=11).body)"
   ]
  },
  {
   "cell_type": "markdown",
   "id": "9992b50e-3d57-46de-bb5c-90c548f2ba7a",
   "metadata": {},
   "source": [
    "## Basic Query DSL (Domain Specific language)\n",
    "- All query should be in json format"
   ]
  },
  {
   "cell_type": "markdown",
   "id": "fff7a6b2-9d1d-4618-8842-3c8b20901896",
   "metadata": {},
   "source": [
    "Match Query"
   ]
  },
  {
   "cell_type": "code",
   "execution_count": null,
   "id": "b35a5a40-1dc9-4bd7-afbf-3dc8a62ade60",
   "metadata": {},
   "outputs": [],
   "source": [
    "query = {\n",
    "    \"query\": {\n",
    "        \"match\": {\n",
    "            \"team\": \"Lakers\"\n",
    "        }\n",
    "    }\n",
    "}\n",
    "\n",
    "# Search\n",
    "response = client.search(index=INDEX_NAME, body=query)\n",
    "pprint(response[\"hits\"][\"hits\"])"
   ]
  },
  {
   "cell_type": "markdown",
   "id": "f6022bd9-d38c-4ea0-a598-97535b63b01f",
   "metadata": {},
   "source": [
    "Match_all Query"
   ]
  },
  {
   "cell_type": "code",
   "execution_count": null,
   "id": "2c952094-1313-4d3d-b10a-164febb361d6",
   "metadata": {},
   "outputs": [],
   "source": [
    "query = {\n",
    "    \"query\": {\n",
    "        \"match_all\": {}\n",
    "        # Default size: 10\n",
    "    },\n",
    "}\n",
    "\n",
    "# Search\n",
    "response = client.search(index=INDEX_NAME, body=query)\n",
    "pprint(len(response[\"hits\"][\"hits\"]))"
   ]
  },
  {
   "cell_type": "code",
   "execution_count": null,
   "id": "cb5f9f53-05b6-46c9-a645-9005b0fd6f10",
   "metadata": {},
   "outputs": [],
   "source": [
    "query = {\n",
    "    \"query\": {\n",
    "        \"match_all\": {},\n",
    "    },\n",
    "    \"size\": 20\n",
    "}\n",
    "\n",
    "# Search\n",
    "response = client.search(index=INDEX_NAME, body=query)\n",
    "pprint(len(response[\"hits\"][\"hits\"]))"
   ]
  },
  {
   "cell_type": "markdown",
   "id": "fe79b85c-903f-4ad5-9374-ca4ceb414bf1",
   "metadata": {},
   "source": [
    "Boolean Query: \"must\""
   ]
  },
  {
   "cell_type": "code",
   "execution_count": null,
   "id": "dff07036-e6fb-49a7-9348-7a968b22313f",
   "metadata": {},
   "outputs": [],
   "source": [
    "query = {\n",
    "  \"query\": {\n",
    "    \"bool\": {\n",
    "      \"must\": [\n",
    "        { \"match\": { \"country\": \"USA\" } },\n",
    "        { \"match\": { \"position\": \"PG\" } }\n",
    "      ]\n",
    "    }\n",
    "  }\n",
    "}\n",
    "\n",
    "# Search\n",
    "response = client.search(index=INDEX_NAME, body=query)\n",
    "for hit in response[\"hits\"][\"hits\"]:\n",
    "    print(hit[\"_source\"][\"first_name\"], hit[\"_source\"][\"last_name\"],\n",
    "          hit[\"_source\"][\"country\"], hit[\"_source\"][\"position\"])"
   ]
  },
  {
   "cell_type": "markdown",
   "id": "35a003c2-4088-4e1b-81ed-19aeda503605",
   "metadata": {},
   "source": [
    "Range Query"
   ]
  },
  {
   "cell_type": "code",
   "execution_count": null,
   "id": "0a2604e7-e87c-4c8a-95e4-97092129150c",
   "metadata": {},
   "outputs": [],
   "source": [
    "query = {\n",
    "    \"query\": {\n",
    "        \"range\": {\n",
    "            \"avg_scoring\": {\n",
    "                \"gte\": 20,\n",
    "                \"lte\": 30\n",
    "            }\n",
    "        }\n",
    "    }\n",
    "}\n",
    "\n",
    "# Search\n",
    "response = client.search(index=INDEX_NAME, body=query)\n",
    "for hit in response[\"hits\"][\"hits\"]:\n",
    "    print(hit[\"_source\"][\"first_name\"], hit[\"_source\"][\"last_name\"], hit[\"_source\"][\"avg_scoring\"])"
   ]
  },
  {
   "cell_type": "markdown",
   "id": "df39b322-1663-4d2d-98f2-d67c3e6d7716",
   "metadata": {},
   "source": [
    "Sort Search Results"
   ]
  },
  {
   "cell_type": "code",
   "execution_count": null,
   "id": "57bd1437-b343-4223-8f23-44e3c43d73f2",
   "metadata": {},
   "outputs": [],
   "source": [
    "query = {\n",
    "    \"sort\": [\n",
    "        {\"avg_scoring\": {\"order\": \"desc\"}}, {\"avg_rebound\": {\"order\": \"desc\"}}\n",
    "    ],\n",
    "    \"size\": 5\n",
    "}\n",
    "\n",
    "# Search\n",
    "response = client.search(index=INDEX_NAME, body=query)\n",
    "for hit in response[\"hits\"][\"hits\"]:\n",
    "    print(hit[\"_source\"][\"first_name\"], hit[\"_source\"][\"last_name\"], hit[\"_source\"][\"avg_scoring\"], hit[\"_source\"][\"avg_rebound\"])"
   ]
  },
  {
   "cell_type": "markdown",
   "id": "ba7e4ab5-0b89-4f4f-85ed-870db0a9bd5a",
   "metadata": {},
   "source": [
    "## Exercise"
   ]
  },
  {
   "cell_type": "code",
   "execution_count": null,
   "id": "4b637fd3-7bdd-47c6-8931-a1ba210065da",
   "metadata": {},
   "outputs": [],
   "source": [
    "# import libraries\n",
    "import pandas as pd\n",
    "import numpy as np\n",
    "import json\n",
    "from elasticsearch import Elasticsearch\n",
    "from tqdm import tqdm\n",
    "\n",
    "import os\n",
    "os.chdir('/home/day4/24_SDS_SW_Architecture/day4')"
   ]
  },
  {
   "cell_type": "code",
   "execution_count": null,
   "id": "04fb0755-dc1b-4aa2-afb6-69304c0b05bd",
   "metadata": {},
   "outputs": [],
   "source": [
    "ELASTIC_USERNAME = \"elastic\"\n",
    "ELASTIC_PASSWORD = \"123456\"\n",
    "ELASTIC_PATH = \"https://localhost:9200\""
   ]
  },
  {
   "cell_type": "code",
   "execution_count": null,
   "id": "487a9d89-4369-400d-931a-b6ad4100051d",
   "metadata": {},
   "outputs": [],
   "source": [
    "# connect to Elasticsearch\n",
    "def connect_to_elastic() -> Elasticsearch:\n",
    "    client = Elasticsearch(\n",
    "        ELASTIC_PATH,\n",
    "        ca_certs = \"/home/day4/24_SDS_SW_Architecture/day4/ca.crt\",\n",
    "        basic_auth=(ELASTIC_USERNAME, ELASTIC_PASSWORD),\n",
    "    )\n",
    "    return client\n",
    "    \n",
    "client = connect_to_elastic()\n",
    "print(client.info())"
   ]
  },
  {
   "cell_type": "code",
   "execution_count": null,
   "id": "6d6da3f0-4f40-4f29-8705-6019efad5951",
   "metadata": {},
   "outputs": [],
   "source": [
    "# Write mapping for the index\n",
    "mapping = {\n",
    "    \"movieId\": {\n",
    "        \"type\": None\n",
    "    },\n",
    "    \"title\": {\n",
    "        \"type\": None\n",
    "    },\n",
    "    \"genres\": {\n",
    "        \"type\": None\n",
    "    },\n",
    "    \"imdbId\": {\n",
    "        \"type\": None\n",
    "    },\n",
    "    \"tmdbId\": {\n",
    "        \"type\": None\n",
    "    },\n",
    "    \"userId\": {\n",
    "        \"type\": None\n",
    "    },\n",
    "    \"rating\": {\n",
    "        \"type\": None\n",
    "    },\n",
    "    \"timestamp\": {\n",
    "        \"type\": None\n",
    "    }}"
   ]
  },
  {
   "cell_type": "code",
   "execution_count": null,
   "id": "55f49d95-d8a9-450c-b492-38846e64aef4",
   "metadata": {},
   "outputs": [],
   "source": [
    "# Create index\n",
    "INDEX_NAME = \"movie_review\"\n",
    "\n",
    "client = connect_to_elastic()\n",
    "if not client.indices.exists(index=INDEX_NAME):\n",
    "    client.indices.create(None)"
   ]
  },
  {
   "cell_type": "code",
   "execution_count": null,
   "id": "590f37fb-776b-4e77-bf8b-656c0c67655e",
   "metadata": {},
   "outputs": [],
   "source": [
    "# Insert documents\n",
    "with open('movie_data.json', 'r') as f:\n",
    "    movie_json = json.load(f)\n",
    "    for id_doc, document in enumerate(tqdm(movie_json)):\n",
    "        client.index(None)"
   ]
  },
  {
   "cell_type": "markdown",
   "id": "96c93448-5204-4aa7-b642-c74b57f07a0f",
   "metadata": {},
   "source": [
    "### Q1) What is the total number of reviews for films that contain the both \"Action\" and \"Crime\" genres?"
   ]
  },
  {
   "cell_type": "code",
   "execution_count": null,
   "id": "4d1d726b-5c3c-441b-a5e0-79cb08c63fb7",
   "metadata": {},
   "outputs": [],
   "source": [
    "# Action and Crime\n",
    "query = {\n",
    "    \"query\": {\n",
    "        None\n",
    "    },\n",
    "    \"size\": 1000\n",
    "}\n",
    "\n",
    "response = client.search(None)\n",
    "print(len(response['hits']['hits']))"
   ]
  },
  {
   "cell_type": "markdown",
   "id": "34aa5a2c-f503-44a1-8f57-6d40799aa8ba",
   "metadata": {},
   "source": [
    "### Q2) What is the total number of reviews for films that contain the Sci-Fi genre and have a rating 4.0 or more but 5.0 or less and report the five movie in the list of results."
   ]
  },
  {
   "cell_type": "code",
   "execution_count": null,
   "id": "800a6d1a-8618-4939-99c1-356213e36f66",
   "metadata": {},
   "outputs": [],
   "source": [
    "query = {\n",
    "    \"query\": {\n",
    "        None\n",
    "        }\n",
    "    },\n",
    "    \"size\": 1000\n",
    "}\n",
    "\n",
    "response = client.search(None)\n",
    "print(\"Numbers of result:\", response['hits']['total']['value'])\n",
    "\n",
    "movie_list = []\n",
    "for r in response['hits']['hits']:\n",
    "    movie_list.append([r['_source']['title'], r['_source']['rating'], r['_source']['genres']])\n",
    "\n",
    "print('\\nResults')\n",
    "for i in range(5):\n",
    "    print(movie_list[i])"
   ]
  },
  {
   "cell_type": "markdown",
   "id": "42fe0fa9-aced-4482-8bd3-ee820297eedf",
   "metadata": {},
   "source": [
    "### Q3) Find the 10 lowest rated reviews between 2005 and 2010, in order."
   ]
  },
  {
   "cell_type": "code",
   "execution_count": null,
   "id": "656c016b-496e-49ac-8db5-c83f099cf65b",
   "metadata": {},
   "outputs": [],
   "source": [
    "query = {\n",
    "    \"size\": None,\n",
    "    \"query\": {\n",
    "        None\n",
    "        }\n",
    "    },\n",
    "    \"sort\": [\n",
    "        None\n",
    "    ]\n",
    "}\n",
    "\n",
    "response = client.search(None)\n",
    "\n",
    "from datetime import datetime\n",
    "for hit in response['hits']['hits']:\n",
    "    print(datetime.fromtimestamp(hit['_source']['timestamp']//1000), hit['_source']['title'], hit['_source']['rating'])"
   ]
  },
  {
   "cell_type": "markdown",
   "id": "addf2e69-28b1-4803-89b2-97196ddcbf62",
   "metadata": {
    "jp-MarkdownHeadingCollapsed": true,
    "tags": []
   },
   "source": [
    "## 정답코드"
   ]
  },
  {
   "cell_type": "code",
   "execution_count": null,
   "id": "4c1ef5aa-f790-4062-a6b7-2022c835daf8",
   "metadata": {},
   "outputs": [],
   "source": [
    "# Write mapping for the index\n",
    "mapping = {\n",
    "    \"movieId\": {\n",
    "        \"type\": \"integer\"\n",
    "    },\n",
    "    \"title\": {\n",
    "        \"type\": \"keyword\"\n",
    "    },\n",
    "    \"genres\": {\n",
    "        \"type\": \"text\"\n",
    "    },\n",
    "    \"imdbId\": {\n",
    "        \"type\": \"integer\"\n",
    "    },\n",
    "    \"tmdbId\": {\n",
    "        \"type\": \"integer\"\n",
    "    },\n",
    "    \"userId\": {\n",
    "        \"type\": \"integer\"\n",
    "    },\n",
    "    \"rating\": {\n",
    "        \"type\": \"float\"\n",
    "    },\n",
    "    \"timestamp\": {\n",
    "        \"type\": \"date\"\n",
    "    }}"
   ]
  },
  {
   "cell_type": "code",
   "execution_count": null,
   "id": "ebcac3a6-4087-4ea9-9e72-929215b7b48c",
   "metadata": {},
   "outputs": [],
   "source": [
    "# Create index\n",
    "INDEX_NAME = \"movie_review\"\n",
    "\n",
    "client = connect_to_elastic()\n",
    "if not client.indices.exists(index=INDEX_NAME):\n",
    "    client.indices.create(index=INDEX_NAME, body={'mappings': {'properties': mapping}})"
   ]
  },
  {
   "cell_type": "code",
   "execution_count": null,
   "id": "91c1bb56-c05e-421f-bcaf-40cca752d098",
   "metadata": {},
   "outputs": [],
   "source": [
    "# Insert documents\n",
    "with open('movie_data.json', 'r') as f:\n",
    "    movie_json = json.load(f)\n",
    "    for id_doc, document in enumerate(tqdm(movie_json)):\n",
    "        client.index(index=INDEX_NAME, body=document, id=id_doc)"
   ]
  },
  {
   "cell_type": "markdown",
   "id": "c463652f-a3c9-4c33-9e67-a5f4d97529d8",
   "metadata": {},
   "source": [
    "### Q1) What is the total number of reviews for films that contain the both \"Action\" and \"Crime\" genres?"
   ]
  },
  {
   "cell_type": "code",
   "execution_count": null,
   "id": "716a7be6-e8c9-465c-aa94-57ac9b50a986",
   "metadata": {},
   "outputs": [],
   "source": [
    "# Action and Crime\n",
    "query = {\n",
    "    \"query\": {\n",
    "        \"bool\": {\n",
    "            \"must\": [\n",
    "                {\"match\": { \"genres\": \"Action\"}},\n",
    "                {\"match\": { \"genres\": \"Crime\"}}\n",
    "            ]\n",
    "        }\n",
    "    },\n",
    "    \"size\": 1000\n",
    "}\n",
    "\n",
    "response = client.search(index=INDEX_NAME, body=query)\n",
    "print(len(response['hits']['hits']))"
   ]
  },
  {
   "cell_type": "markdown",
   "id": "1e5c3ae9-f353-42f4-a744-039cd719cf9e",
   "metadata": {},
   "source": [
    "### Q2) What is the total number of reviews for films that contain the Sci-Fi genre and have a rating 4.0 or more but 5.0 or less and report the five movie in the list of results."
   ]
  },
  {
   "cell_type": "code",
   "execution_count": null,
   "id": "71ae179e-5539-4c26-b736-3405e809e120",
   "metadata": {},
   "outputs": [],
   "source": [
    "query = {\n",
    "    \"query\": {\n",
    "        \"bool\": {\n",
    "            \"must\": [\n",
    "                {\n",
    "                    \"match\": {\n",
    "                        \"genres\": \"Sci-Fi\"\n",
    "                    }\n",
    "                },\n",
    "                {\n",
    "                    \"range\": {\n",
    "                        \"rating\": {\n",
    "                            \"gte\": 4.0,\n",
    "                            \"lte\": 5.0\n",
    "                        }\n",
    "                    }\n",
    "                }\n",
    "            ]\n",
    "        }\n",
    "    },\n",
    "    \"size\": 1000\n",
    "}\n",
    "\n",
    "response = client.search(index=INDEX_NAME, body=query)\n",
    "print(\"Numbers of result:\", response['hits']['total']['value'])\n",
    "\n",
    "movie_list = []\n",
    "for r in response['hits']['hits']:\n",
    "    movie_list.append([r['_source']['title'], r['_source']['rating'], r['_source']['genres']])\n",
    "\n",
    "print('\\nResults')\n",
    "for i in range(5):\n",
    "    print(movie_list[i])"
   ]
  },
  {
   "cell_type": "markdown",
   "id": "0523794a-163c-4736-aecf-33d960e7b2f3",
   "metadata": {},
   "source": [
    "### Q3) Find the 10 lowest rated reviews between 2005 and 2010, in order."
   ]
  },
  {
   "cell_type": "code",
   "execution_count": null,
   "id": "65d895da-d686-4bc0-9378-023d6e2822e1",
   "metadata": {},
   "outputs": [],
   "source": [
    "query = {\n",
    "    \"size\": 10,\n",
    "    \"query\": {\n",
    "        \"range\": {\n",
    "            \"timestamp\": {\n",
    "                \"gte\": \"2005-01-01\",\n",
    "                \"lte\": \"2010-12-31\"\n",
    "            }\n",
    "        }\n",
    "    },\n",
    "    \"sort\": [\n",
    "        {\n",
    "            \"rating\": {\n",
    "                \"order\": \"asc\"\n",
    "            }\n",
    "        }\n",
    "    ]\n",
    "}\n",
    "\n",
    "response = client.search(index=INDEX_NAME, body=query)\n",
    "\n",
    "from datetime import datetime\n",
    "for hit in response['hits']['hits']:\n",
    "    print(datetime.fromtimestamp(hit['_source']['timestamp']//1000), hit['_source']['title'], hit['_source']['rating'])"
   ]
  },
  {
   "cell_type": "code",
   "execution_count": null,
   "id": "ae9325a6-8543-4c7d-9a98-b6cc0c734623",
   "metadata": {},
   "outputs": [],
   "source": []
  }
 ],
 "metadata": {
  "kernelspec": {
   "display_name": "Python 3",
   "language": "python",
   "name": "python3"
  },
  "language_info": {
   "codemirror_mode": {
    "name": "ipython",
    "version": 3
   },
   "file_extension": ".py",
   "mimetype": "text/x-python",
   "name": "python",
   "nbconvert_exporter": "python",
   "pygments_lexer": "ipython3",
   "version": "3.10.8"
  }
 },
 "nbformat": 4,
 "nbformat_minor": 5
}
