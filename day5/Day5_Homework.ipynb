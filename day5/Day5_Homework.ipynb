{
  "nbformat": 4,
  "nbformat_minor": 0,
  "metadata": {
    "colab": {
      "provenance": [],
      "toc_visible": true
    },
    "kernelspec": {
      "name": "python3",
      "display_name": "Python 3"
    },
    "accelerator": "GPU",
    "gpuClass": "standard"
  },
  "cells": [
    {
      "cell_type": "markdown",
      "metadata": {
        "id": "D0GE9PoYTyDS"
      },
      "source": [
        "# Lab 05. Homework: 여행 목적지를 추천하는 챗봇 만들기\n"
      ]
    },
    {
      "cell_type": "markdown",
      "source": [
        "## 필요한 라이브러리 임포트"
      ],
      "metadata": {
        "id": "ndy9DVpQGpdZ"
      }
    },
    {
      "cell_type": "code",
      "source": [
        "# 필요한 packages를 설치\n",
        "!pip install langchain==0.1.9\n",
        "!pip install langchain_google_genai==0.0.9\n",
        "!pip install langchain-community==0.0.24\n",
        "!pip install langchainhub==0.1.15\n",
        "!pip install tiktoken==0.6.0\n",
        "!pip install chromadb==0.4.24"
      ],
      "metadata": {
        "id": "OTn_roMbHF5a"
      },
      "execution_count": null,
      "outputs": []
    },
    {
      "cell_type": "code",
      "source": [
        "# API_KEY 저장\n",
        "GOOGLE_API_KEY = \"YOUR_API_KEY\""
      ],
      "metadata": {
        "id": "RizeUyXLHKEG"
      },
      "execution_count": null,
      "outputs": []
    },
    {
      "cell_type": "code",
      "metadata": {
        "id": "h-kiB2TFTYH8"
      },
      "source": [
        "from langchain_core.messages import AIMessage, HumanMessage\n",
        "from langchain_core.prompts import ChatPromptTemplate, MessagesPlaceholder\n",
        "from langchain.memory import ChatMessageHistory\n",
        "from langchain_google_genai import GoogleGenerativeAI"
      ],
      "execution_count": null,
      "outputs": []
    },
    {
      "cell_type": "markdown",
      "source": [
        "## 프롬프트 설정"
      ],
      "metadata": {
        "id": "Pc2MR6NNGqx7"
      }
    },
    {
      "cell_type": "code",
      "source": [
        "# 실습 자료에 나와 있는 대로 프롬프트를 작성해주세요!\n",
        "prompt = ChatPromptTemplate.from_messages(\n",
        "    [\n",
        "        (\n",
        "            \"system\",\n",
        "            None,\n",
        "        ),\n",
        "        MessagesPlaceholder(variable_name=\"messages\")\n",
        "    ]\n",
        ")"
      ],
      "metadata": {
        "id": "HioX77W-0J2V"
      },
      "execution_count": null,
      "outputs": []
    },
    {
      "cell_type": "markdown",
      "source": [
        "## 메모리 정의"
      ],
      "metadata": {
        "id": "cmTIX-R0GtJU"
      }
    },
    {
      "cell_type": "code",
      "source": [
        "# ChatMessageHistory를 정의해주세요!\n",
        "memory = None"
      ],
      "metadata": {
        "id": "SC9OGcwfGui5"
      },
      "execution_count": null,
      "outputs": []
    },
    {
      "cell_type": "markdown",
      "source": [
        "## LLM 체인 정의"
      ],
      "metadata": {
        "id": "Y0UaoQ6eGy5E"
      }
    },
    {
      "cell_type": "code",
      "source": [
        "llm = GoogleGenerativeAI(model='models/gemini-pro', google_api_key=GOOGLE_API_KEY)\n",
        "\n",
        "# 프롬프트와 LLM 두 개를 연결하는 체인을 만들어주세요!\n",
        "chain = None"
      ],
      "metadata": {
        "id": "_XlJbMCbG05W"
      },
      "execution_count": null,
      "outputs": []
    },
    {
      "cell_type": "markdown",
      "source": [
        "## 챗봇 사용"
      ],
      "metadata": {
        "id": "37Z-NAftG2Ki"
      }
    },
    {
      "cell_type": "code",
      "source": [
        "while True:\n",
        "  input_ = input(\"User: \")\n",
        "  if input_ == 'quit':\n",
        "    print(\"\\n**Message history**\")\n",
        "    for m in memory.messages:\n",
        "      print(m.content)\n",
        "    break\n",
        "  memory.add_user_message(input_)\n",
        "  response = chain.invoke({'messages': memory.messages})\n",
        "  memory.add_ai_message(response)\n",
        "\n",
        "# 실습 자료에 나와 있는 3개의 질의를 차례대로 입력해주세요!"
      ],
      "metadata": {
        "id": "dsSzKCUiG3Yo"
      },
      "execution_count": null,
      "outputs": []
    },
    {
      "cell_type": "markdown",
      "source": [
        "## 메모리 기록 출력"
      ],
      "metadata": {
        "id": "F0s1NB8tG4pf"
      }
    },
    {
      "cell_type": "code",
      "source": [
        "print(memory)"
      ],
      "metadata": {
        "id": "vy5FloqzG6UX"
      },
      "execution_count": null,
      "outputs": []
    }
  ]
}